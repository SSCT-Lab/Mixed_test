{
 "cells": [
  {
   "cell_type": "markdown",
   "metadata": {},
   "source": [
    "# Introduction to API Name Qualifying using Scalpel\n",
    "The qualified API name is a string that represents the path from the top-level module to the object itself. The name format is defined in PEP 3155.\n",
    "\n",
    "Python APIs or function names can be invoked in different ways depending on how they are imported. However, this results in inconveniences to API usage analysis. In this module, we will convert all function call names to their fully-qualified names which are dotted strings that can represent the path from the top-level module down to the object itself. Various tasks can be benefited from this functionality such as understanding deprecated API  usage, dependency parsing as well as building sound call graphs.\n",
    "\n",
    "To perform the API name qualification, we use Mnode. A MNode class  is a representation of a Module as a node in a control flow graph (CFG).\n",
    "It extracts information about the node, such as its id, its statements, function definitions, imports and its exits from the source code."
   ]
  },
  {
   "cell_type": "markdown",
   "metadata": {},
   "source": [
    "## Let's install Scalpel first\n",
    "\n",
    "Use the command in your virtual environment to install Scalpel.\n",
    "```console\n",
    "pip install python-scalpel\n",
    "```"
   ]
  },
  {
   "cell_type": "markdown",
   "metadata": {},
   "source": [
    "Now, Lets import all the  necessary modules."
   ]
  },
  {
   "cell_type": "code",
   "execution_count": 1,
   "metadata": {
    "pycharm": {
     "is_executing": true
    }
   },
   "outputs": [],
   "source": [
    "import os\n",
    "\n",
    "from scalpel.core.mnode import MNode"
   ]
  },
  {
   "cell_type": "markdown",
   "metadata": {},
   "source": [
    "Below is an example source code for which we will  generate fully qualified names of APIs initialized  in it."
   ]
  },
  {
   "cell_type": "code",
   "execution_count": 1,
   "metadata": {},
   "outputs": [],
   "source": [
    "source = \"\"\"\n",
    "import numpy as np\n",
    "import pandas as pd\n",
    "from random import choices\n",
    "\n",
    "pd.read_csv(\"test.csv\")\n",
    "np.array([1,2,3,4,5,6])\n",
    "data = [41, 50, 29]\n",
    "means = sorted(mean(choices(data, k=len(data))) for i in range(100))\n",
    "\n",
    "\"\"\""
   ]
  },
  {
   "cell_type": "markdown",
   "metadata": {},
   "source": [
    "We first create a MNode object with the name \"local\". The MNode object is used to represent the abstract syntax tree (AST) of the source code. The source code is first parsed using MNode and the AST is generated.\n",
    "\n",
    "The next step is to parse the AST to extract the function calls and the imported name information."
   ]
  },
  {
   "cell_type": "code",
   "execution_count": 3,
   "metadata": {},
   "outputs": [],
   "source": [
    "mnode = MNode(\"local\")\n",
    "mnode.source = source\n",
    "mnode.gen_ast()\n",
    "# parse all function calls\n",
    "func_calls = mnode.parse_func_calls()\n",
    "# obtain the imported name information\n",
    "import_dict = mnode.parse_import_stmts()"
   ]
  },
  {
   "cell_type": "markdown",
   "metadata": {},
   "source": [
    "As the next step, we loop  through a list of function calls. For each function call, we extract all the function name and splits it into a list of parts. if the function calls are from a imported module, we join them using their full names in import dictionary. "
   ]
  },
  {
   "cell_type": "code",
   "execution_count": 4,
   "metadata": {},
   "outputs": [
    {
     "name": "stdout",
     "output_type": "stream",
     "text": [
      "pandas.read_csv\n",
      "numpy.array\n",
      "sorted\n",
      "mean\n",
      "len\n",
      "range\n"
     ]
    }
   ],
   "source": [
    "for call_info in func_calls:\n",
    "    call_name = call_info[\"name\"]\n",
    "    dotted_parts = call_name.split(\".\")\n",
    "    # if this function calls is from a imported module\n",
    "    if dotted_parts[0] in import_dict:\n",
    "        dotted_parts = [import_dict[dotted_parts[0]]] + dotted_parts[1:]\n",
    "        call_name = \".\".join(dotted_parts)\n",
    "    print(call_name)"
   ]
  },
  {
   "cell_type": "code",
   "execution_count": null,
   "metadata": {},
   "outputs": [],
   "source": []
  }
 ],
 "metadata": {
  "kernelspec": {
   "display_name": "Python 3 (ipykernel)",
   "language": "python",
   "name": "python3"
  },
  "language_info": {
   "codemirror_mode": {
    "name": "ipython",
    "version": 3
   },
   "file_extension": ".py",
   "mimetype": "text/x-python",
   "name": "python",
   "nbconvert_exporter": "python",
   "pygments_lexer": "ipython3",
   "version": "3.8.19"
  }
 },
 "nbformat": 4,
 "nbformat_minor": 4
}
