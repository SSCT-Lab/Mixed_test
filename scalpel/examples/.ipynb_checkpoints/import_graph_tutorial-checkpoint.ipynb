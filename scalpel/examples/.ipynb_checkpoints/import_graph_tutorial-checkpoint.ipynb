{
 "cells": [
  {
   "cell_type": "markdown",
   "metadata": {},
   "source": [
    "# Introduction to Import Graph in Python Scalpel\n",
    "\n",
    " **Import Graph** creates data structure that represents the dependency relationship of module files in the given project. "
   ]
  },
  {
   "cell_type": "markdown",
   "metadata": {},
   "source": [
    "## Let's install Scalpel first\n",
    "\n",
    "Use the command in your virtual environment to install Scalpel.\n",
    "```console\n",
    "pip install python-scalpel\n",
    "```"
   ]
  },
  {
   "cell_type": "markdown",
   "metadata": {},
   "source": [
    "Let's import all the necessary modules."
   ]
  },
  {
   "cell_type": "code",
   "execution_count": null,
   "metadata": {
    "pycharm": {
     "is_executing": true
    }
   },
   "outputs": [],
   "source": [
    "from scalpel.import_graph.import_graph import ImportGraph, Tree"
   ]
  },
  {
   "cell_type": "markdown",
   "metadata": {},
   "source": [
    "Our example directory consists of following structure, which we need to pass to the import graph object. \n",
    "\n",
    "```\n",
    "|-- example\n",
    "       |-- module_a.py\n",
    "       |-- module_b.py\n",
    "       |-- module_c.py\n",
    "\n",
    "```\n",
    "\n",
    "Import graph module then builds the import tree of the target directory."
   ]
  },
  {
   "cell_type": "code",
   "execution_count": 3,
   "metadata": {},
   "outputs": [],
   "source": [
    "target_dir = \"./import_graph_example_pkg\"\n",
    "import_graph = ImportGraph(target_dir)\n",
    "import_graph.build_dir_tree()"
   ]
  },
  {
   "cell_type": "markdown",
   "metadata": {},
   "source": [
    "Import graph stores all import names as leaf nodes.\n",
    "For each leaf node in the list, the script parses the import statement using the parse_import() method. The parse_import() method returns a dictionary that contains information about the imported module, such as its name, its location, and its dependencies."
   ]
  },
  {
   "cell_type": "code",
   "execution_count": 4,
   "metadata": {},
   "outputs": [
    {
     "name": "stdout",
     "output_type": "stream",
     "text": [
      "{'module_b': ['B'], 'module_c': ['C']}\n",
      "{'module_c': ['C']}\n",
      "{}\n"
     ]
    }
   ],
   "source": [
    "all_leaf_nodes = import_graph.get_leaf_nodes()\n",
    "for node in all_leaf_nodes:\n",
    "    module_dict = import_graph.parse_import(node.ast)\n",
    "    print(module_dict)"
   ]
  },
  {
   "cell_type": "code",
   "execution_count": null,
   "outputs": [],
   "source": [],
   "metadata": {
    "collapsed": false,
    "pycharm": {
     "is_executing": true
    }
   }
  },
  {
   "cell_type": "code",
   "execution_count": null,
   "outputs": [],
   "source": [],
   "metadata": {
    "collapsed": false,
    "pycharm": {
     "is_executing": true
    }
   }
  },
  {
   "cell_type": "code",
   "execution_count": 4,
   "outputs": [],
   "source": [],
   "metadata": {
    "collapsed": false
   }
  }
 ],
 "metadata": {
  "kernelspec": {
   "display_name": "scalpel",
   "language": "python",
   "name": "python3"
  },
  "language_info": {
   "codemirror_mode": {
    "name": "ipython",
    "version": 3
   },
   "file_extension": ".py",
   "mimetype": "text/x-python",
   "name": "python",
   "nbconvert_exporter": "python",
   "pygments_lexer": "ipython3",
   "version": "3.10.6"
  },
  "orig_nbformat": 4
 },
 "nbformat": 4,
 "nbformat_minor": 2
}
