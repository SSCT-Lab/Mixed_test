{
 "cells": [
  {
   "cell_type": "markdown",
   "metadata": {},
   "source": [
    "# Call Graph Construction using Scalpel\n",
    "\n",
    "A call graph depicts calling relationships between subroutines in a computer program. It is an essential component in most static analysis and can be leveraged to build more sophisticated applications such as profiling, vulnerability propagation and refactoring. Scalpel provides an interface to create call-graphs, which is a wrapper function for the call-graph module in PyCG.\n",
    "\n"
   ]
  },
  {
   "cell_type": "markdown",
   "metadata": {},
   "source": [
    "## Let's install Scalpel first\n",
    "\n",
    "Use the command in your virtual environment to install Scalpel.\n",
    "```console\n",
    "pip install python-scalpel\n",
    "```"
   ]
  },
  {
   "cell_type": "markdown",
   "metadata": {},
   "source": [
    "Let's now import required modules."
   ]
  },
  {
   "cell_type": "code",
   "execution_count": 1,
   "metadata": {},
   "outputs": [],
   "source": [
    "import json\n",
    "from pprint import pprint\n",
    "from scalpel.call_graph.pycg import CallGraphGenerator, formats"
   ]
  },
  {
   "cell_type": "markdown",
   "metadata": {},
   "source": [
    "We  make use of the **CallGraphGenerator** module to generate the call graph. In the generated  call graph, the basic node can be either a function, a class or a module. The edges represent calling relationships between program nodes.\n",
    "\n",
    "The example package has the folder structure as follows.\n",
    "\n",
    "```\n",
    "-example_pkg\n",
    "    -main.py\n",
    "    -sub_folder1\n",
    "        -module1.py\n",
    "        -module2.py\n",
    "    -sub_folder2\n",
    "```\n",
    "\n",
    "The **CallGraphGenerator** object provides functions to analyze and generate the output call-graph with just a simple function call."
   ]
  },
  {
   "cell_type": "code",
   "execution_count": 2,
   "metadata": {},
   "outputs": [
    {
     "name": "stdout",
     "output_type": "stream",
     "text": [
      "{'main': {'sub_folder1.module2.Module2', 'sub_folder1.module1.Module1.add', 'sub_folder1.module2.Module2.minus', 'sub_folder1.module1.Module1'}, 'sub_folder1.module1.Module1': set(), 'sub_folder1.module1.Module1.add': set(), 'sub_folder1.module2.Module2': set(), 'sub_folder1.module2.Module2.minus': set()}\n"
     ]
    }
   ],
   "source": [
    "cg_generator = CallGraphGenerator([\"./cg_example_pkg/main.py\"], \"cg_example_pkg\")\n",
    "cg_generator.analyze()\n",
    "cg = cg_generator.output()\n",
    "print(cg)"
   ]
  },
  {
   "cell_type": "markdown",
   "metadata": {},
   "source": [
    "Call graph generator also provides option to output all the function calls using **output_edges**."
   ]
  },
  {
   "cell_type": "code",
   "execution_count": 3,
   "metadata": {},
   "outputs": [
    {
     "data": {
      "text/plain": [
       "[['main', 'sub_folder1.module2.Module2'],\n",
       " ['main', 'sub_folder1.module1.Module1.add'],\n",
       " ['main', 'sub_folder1.module2.Module2.minus'],\n",
       " ['main', 'sub_folder1.module1.Module1']]"
      ]
     },
     "execution_count": 3,
     "metadata": {},
     "output_type": "execute_result"
    }
   ],
   "source": [
    "edges = cg_generator.output_edges()\n",
    "edges"
   ]
  },
  {
   "cell_type": "markdown",
   "metadata": {},
   "source": [
    "We can also get the lists of internal and external modules in the call graph. Internal modules are those that are defined within the package. As the **internal_mods** are provided as a dictionary, we are using **pprint** to print the dictionary in a more structured way."
   ]
  },
  {
   "cell_type": "code",
   "execution_count": 4,
   "metadata": {},
   "outputs": [
    {
     "name": "stdout",
     "output_type": "stream",
     "text": [
      "{'main': {'filename': 'main.py',\n",
      "          'methods': {'main': {'first': 1, 'last': 7, 'name': 'main'}}}}\n"
     ]
    }
   ],
   "source": [
    "internal_mods = cg_generator.output_internal_mods()\n",
    "pprint(internal_mods)"
   ]
  },
  {
   "cell_type": "markdown",
   "metadata": {},
   "source": [
    "Now lets see, all the external modules in the source package. External modules are the calls to Python functions or modules that are defined outside of the current package."
   ]
  },
  {
   "cell_type": "code",
   "execution_count": 5,
   "metadata": {},
   "outputs": [
    {
     "name": "stdout",
     "output_type": "stream",
     "text": [
      "{'sub_folder1': {'filename': None,\n",
      "                 'methods': {'sub_folder1': {'first': None,\n",
      "                                             'last': None,\n",
      "                                             'name': 'sub_folder1'},\n",
      "                             'sub_folder1.module1.Module1': {'first': None,\n",
      "                                                             'last': None,\n",
      "                                                             'name': 'sub_folder1.module1.Module1'},\n",
      "                             'sub_folder1.module1.Module1.add': {'first': None,\n",
      "                                                                 'last': None,\n",
      "                                                                 'name': 'sub_folder1.module1.Module1.add'},\n",
      "                             'sub_folder1.module2.Module2': {'first': None,\n",
      "                                                             'last': None,\n",
      "                                                             'name': 'sub_folder1.module2.Module2'},\n",
      "                             'sub_folder1.module2.Module2.minus': {'first': None,\n",
      "                                                                   'last': None,\n",
      "                                                                   'name': 'sub_folder1.module2.Module2.minus'}}}}\n"
     ]
    }
   ],
   "source": [
    "external_mods = cg_generator.output_external_mods()\n",
    "pprint(external_mods)"
   ]
  },
  {
   "cell_type": "markdown",
   "metadata": {},
   "source": [
    "**CallGraphGenerator** also provides an option to format the generated call graph, which can be stored as a JSON object maintaining the format."
   ]
  },
  {
   "cell_type": "code",
   "execution_count": 6,
   "metadata": {},
   "outputs": [
    {
     "name": "stdout",
     "output_type": "stream",
     "text": [
      "{'main': ['sub_folder1.module2.Module2', 'sub_folder1.module1.Module1.add', 'sub_folder1.module2.Module2.minus', 'sub_folder1.module1.Module1'], 'sub_folder1.module1.Module1': [], 'sub_folder1.module1.Module1.add': [], 'sub_folder1.module2.Module2': [], 'sub_folder1.module2.Module2.minus': []}\n"
     ]
    }
   ],
   "source": [
    "formatter = formats.Simple(cg_generator)\n",
    "print(formatter.generate())\n",
    "store_output = False\n",
    "if store_output:\n",
    "    with open(\"example_results.json\", \"w+\") as f:\n",
    "        f.write(json.dumps(formatter.generate()))"
   ]
  }
 ],
 "metadata": {
  "kernelspec": {
   "display_name": "scalpel",
   "language": "python",
   "name": "python3"
  },
  "language_info": {
   "codemirror_mode": {
    "name": "ipython",
    "version": 3
   },
   "file_extension": ".py",
   "mimetype": "text/x-python",
   "name": "python",
   "nbconvert_exporter": "python",
   "pygments_lexer": "ipython3",
   "version": "3.10.6"
  },
  "orig_nbformat": 4
 },
 "nbformat": 4,
 "nbformat_minor": 2
}
