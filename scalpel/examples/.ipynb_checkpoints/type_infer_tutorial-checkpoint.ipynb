{
 "cells": [
  {
   "cell_type": "markdown",
   "metadata": {},
   "source": [
    "# Introduction to Type Inference in Python Scalpel\n",
    "\n",
    "Type inference module in Scalpel can identify type information for the usage context. It infers the type information of all variables, including function return values and function parameters in a Python program. This makes more sophisticated static analysis possible for Python, such as checking for type errors, detecting potential bugs, and improving code readability.\n",
    "\n",
    "Scalpel uses **TypeInference** module to perform type inference.\n",
    "In this tutorial, we take an example file that contains a function to print the current working directory."
   ]
  },
  {
   "cell_type": "markdown",
   "metadata": {},
   "source": [
    "## Let's install Scalpel first\n",
    "\n",
    "Use the command in your virtual environment to install Scalpel.\n",
    "```console\n",
    "pip install python-scalpel\n",
    "```"
   ]
  },
  {
   "cell_type": "markdown",
   "metadata": {},
   "source": [
    "Let's import the required modules."
   ]
  },
  {
   "cell_type": "code",
   "execution_count": 1,
   "metadata": {},
   "outputs": [],
   "source": [
    "from scalpel.typeinfer.typeinfer import TypeInference"
   ]
  },
  {
   "cell_type": "markdown",
   "metadata": {},
   "source": [
    " The **TypeInference** class takes the  name of the source file or project as well as entry point to begin the type inference as parameters.\n"
   ]
  },
  {
   "cell_type": "code",
   "execution_count": 2,
   "metadata": {},
   "outputs": [],
   "source": [
    "inferer = TypeInference(\n",
    "    name=\"type_infer_example.py\", entry_point=\"./type_infer_example.py\"\n",
    ")\n",
    "inferer.infer_types()\n",
    "inferred = inferer.get_types()"
   ]
  },
  {
   "cell_type": "markdown",
   "metadata": {},
   "source": [
    "The module provides the output of type inference in the form of dictionary containing filename, line number , the function of the object along with its type."
   ]
  },
  {
   "cell_type": "code",
   "execution_count": 3,
   "metadata": {},
   "outputs": [
    {
     "name": "stdout",
     "output_type": "stream",
     "text": [
      "[{'file': 'type_infer_example.py', 'line_number': 4, 'function': 'my_function', 'type': {'str'}}, {'file': 'type_infer_example.py', 'line_number': 5, 'variable': 'x', 'function': 'my_function', 'type': {'str'}}]\n"
     ]
    }
   ],
   "source": [
    "print(inferred)"
   ]
  },
  {
   "cell_type": "markdown",
   "metadata": {},
   "source": [
    "Let's see one more example of type inference. We have a source file that contains a function to generate a fibonacci series."
   ]
  },
  {
   "cell_type": "code",
   "execution_count": 4,
   "metadata": {},
   "outputs": [
    {
     "name": "stdout",
     "output_type": "stream",
     "text": [
      "[{'file': 'type_infer_example_2.py', 'line_number': 1, 'function': 'fib', 'type': {'generator'}}]\n"
     ]
    }
   ],
   "source": [
    "inferer = TypeInference(\n",
    "    name=\"type_infer_example_2.py\", entry_point=\"./type_infer_example_2.py\"\n",
    ")\n",
    "inferer.infer_types()\n",
    "inferred_2 = inferer.get_types()\n",
    "print(inferred_2)\n"
   ]
  }
 ],
 "metadata": {
  "kernelspec": {
   "display_name": "scalpel",
   "language": "python",
   "name": "python3"
  },
  "language_info": {
   "codemirror_mode": {
    "name": "ipython",
    "version": 3
   },
   "file_extension": ".py",
   "mimetype": "text/x-python",
   "name": "python",
   "nbconvert_exporter": "python",
   "pygments_lexer": "ipython3",
   "version": "3.10.6"
  },
  "orig_nbformat": 4
 },
 "nbformat": 4,
 "nbformat_minor": 2
}
