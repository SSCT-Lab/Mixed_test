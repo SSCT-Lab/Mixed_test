{
 "cells": [
  {
   "cell_type": "markdown",
   "id": "16315cab",
   "metadata": {},
   "source": [
    "# Introduction to SSA in Scalpel"
   ]
  },
  {
   "cell_type": "markdown",
   "id": "7f291cae",
   "metadata": {},
   "source": [
    "## What is the Static Single Assignment (SSA)"
   ]
  },
  {
   "cell_type": "markdown",
   "id": "149afad1",
   "metadata": {},
   "source": [
    "**SSA** is a means of structuring the IR (intermediate representation) in compiling design, where requires each variable is defined exactly once. It can be used to generate use-def chain by renaming each variable assignment with different names, which can track precisely how data is flowing in the program. Some Algorithms can be improved by the application of SSA like dead code elimination, value numbering and constant propagation. \n",
    "Generally, a variable may be assigned more than once in a program which will result in many instances. Taking the following as an example. On the left, the first line of y seems useless since the x only uses the second assignment of y. However, a program needs to find the reaching definition to achieve this. On the right example which is an SSA form where all of them are immediate:"
   ]
  },
  {
   "cell_type": "markdown",
   "id": "9af8bd97",
   "metadata": {},
   "source": [
    "y = 1 $\\;\\;\\;\\;\\;\\;$  ->$\\;\\;\\;\\;\\;\\;$y1 = 1\n",
    "\n",
    "y = 2 $\\;\\;\\;\\;\\;\\;$  ->$\\;\\;\\;\\;\\;\\;$y2 = 2\n",
    "\n",
    "x = y $\\;\\;\\;\\;\\;\\;$  ->$\\;\\;\\;\\;\\;\\;$x = y2"
   ]
  },
  {
   "cell_type": "markdown",
   "id": "0376a982",
   "metadata": {},
   "source": [
    "## Let's install Scalpel first\n",
    "\n",
    "Use the command in your virtual environment to install Scalpel.\n",
    "```console\n",
    "pip install python-scalpel\n",
    "```"
   ]
  },
  {
   "cell_type": "markdown",
   "id": "38cbab94",
   "metadata": {},
   "source": [
    "### Import essential libraries"
   ]
  },
  {
   "cell_type": "code",
   "execution_count": 1,
   "id": "46cb39d5",
   "metadata": {},
   "outputs": [],
   "source": [
    "import os\n",
    "import sys\n",
    "import ast\n",
    "import astor\n",
    "import unittest"
   ]
  },
  {
   "cell_type": "markdown",
   "id": "2800f9f2",
   "metadata": {},
   "source": [
    "### Import MNode and SSA API"
   ]
  },
  {
   "cell_type": "code",
   "execution_count": 2,
   "id": "28b075fe",
   "metadata": {},
   "outputs": [],
   "source": [
    "from scalpel.core.mnode import MNode\n",
    "from scalpel.SSA.const import SSA"
   ]
  },
  {
   "cell_type": "markdown",
   "id": "932b3b4e",
   "metadata": {},
   "source": [
    "### Let's have an example code"
   ]
  },
  {
   "cell_type": "code",
   "execution_count": 3,
   "id": "738e2cc8",
   "metadata": {},
   "outputs": [],
   "source": [
    "code_str = \"\"\"\n",
    "a = 0\n",
    "b = 10\n",
    "if b>0:\n",
    "    a = a+b\n",
    "else:\n",
    "    a = 10\n",
    "print(a)\n",
    "\"\"\""
   ]
  },
  {
   "cell_type": "markdown",
   "id": "690bbff9",
   "metadata": {},
   "source": [
    "In this example, the variable a has two possible values. By applying phi function in SSA, an initial assignment to a has been added so that instance of a will have two corresponding values."
   ]
  },
  {
   "cell_type": "markdown",
   "id": "91b09625",
   "metadata": {},
   "source": [
    "### Generate CFGs for given source file\n",
    "The function mnode.gen_ast() is to build an AST tree for source code first, then using cfg building method to generate a CFG for the function."
   ]
  },
  {
   "cell_type": "code",
   "execution_count": 4,
   "id": "0391f7c6",
   "metadata": {},
   "outputs": [
    {
     "name": "stdout",
     "output_type": "stream",
     "text": [
      "NODE_LABEL______________________\n",
      "#1\n",
      "a = 0\n",
      "b = 10\n",
      "if b > 0:\n",
      "\n",
      "___________________________________________\n",
      "state:Assign(targets=[Name(id='a', ctx=Store())], value=Constant(value=0, kind=None), type_comment=None)\n",
      "Assign(targets=[Name(id='b', ctx=Store())], value=Constant(value=10, kind=None), type_comment=None)\n",
      "If(test=Compare(left=Name(id='b', ctx=Load()), ops=[Gt()], comparators=[Constant(value=0, kind=None)]), body=[Assign(targets=[Name(id='a', ctx=Store())], value=BinOp(left=Name(id='a', ctx=Load()), op=Add(), right=Name(id='b', ctx=Load())), type_comment=None)], orelse=[Assign(targets=[Name(id='a', ctx=Store())], value=Constant(value=10, kind=None), type_comment=None)])\n",
      "{'load_model'}\n",
      "False\n",
      "NODE_LABEL______________________\n",
      "#2\n",
      "a = a + b\n",
      "\n",
      "___________________________________________\n",
      "state:Assign(targets=[Name(id='a', ctx=Store())], value=BinOp(left=Name(id='a', ctx=Load()), op=Add(), right=Name(id='b', ctx=Load())), type_comment=None)\n",
      "{'load_model'}\n",
      "False\n",
      "NODE_LABEL______________________\n",
      "#3\n",
      "print(a)\n",
      "\n",
      "___________________________________________\n",
      "state:Expr(value=Call(func=Name(id='print', ctx=Load()), args=[Name(id='a', ctx=Load())], keywords=[]))\n",
      "{'load_model'}\n",
      "False\n",
      "NODE_LABEL______________________\n",
      "#4\n",
      "a = 10\n",
      "\n",
      "___________________________________________\n",
      "state:Assign(targets=[Name(id='a', ctx=Store())], value=Constant(value=10, kind=None), type_comment=None)\n",
      "{'load_model'}\n",
      "False\n",
      "GRAPH digraph cluster {\n",
      "\tgraph [label=\"\"]\n",
      "\t1 [label=\"#1\n",
      "a = 0\n",
      "b = 10\n",
      "if b > 0:\n",
      "\"]\n",
      "\t2 [label=\"#2\n",
      "a = a + b\n",
      "\"]\n",
      "\t3 [label=\"#3\n",
      "print(a)\n",
      "\"]\n",
      "\t2 -> 3 [label=\"\"]\n",
      "\t1 -> 2 [label=\"b > 0\"]\n",
      "\t4 [label=\"#4\n",
      "a = 10\n",
      "\"]\n",
      "\t4 -> 3 [label=\"\"]\n",
      "\t1 -> 4 [label=\"(b <= 0)\"]\n",
      "}\n"
     ]
    },
    {
     "data": {
      "text/plain": [
       "'test-output\\\\DNN.pdf'"
      ]
     },
     "execution_count": 4,
     "metadata": {},
     "output_type": "execute_result"
    }
   ],
   "source": [
    "mnode = MNode(\"local\") # create file name for given source code\n",
    "mnode.source = code_str\n",
    "mnode.gen_ast() # build abstract syntax tree\n",
    "cfg = mnode.gen_cfg() \n",
    "res = cfg.build_visual('pdf')\n",
    "res.render('test-output/DNN', view=True)"
   ]
  },
  {
   "cell_type": "markdown",
   "id": "0520bc5a",
   "metadata": {},
   "source": [
    "### Compute SSA and build SSA graph\n",
    "Constant value and alias pairs are generated by computing cfg. Please note the function m_ssa.compute_SSA() will return two dictionaries."
   ]
  },
  {
   "cell_type": "code",
   "execution_count": 5,
   "id": "dbe6019b",
   "metadata": {},
   "outputs": [],
   "source": [
    "m_ssa = SSA()\n",
    "ssa_results, const_dict = m_ssa.compute_SSA(cfg.functioncfgs['texas_holdem'])"
   ]
  },
  {
   "cell_type": "markdown",
   "id": "06318c9e",
   "metadata": {},
   "source": [
    "The key in the first dictionary is the block numbers in given CFG, the value is the statement result of the corresponding block. Here is the output of the results. It can be seen that in the last block, variable a takes two possible values."
   ]
  },
  {
   "cell_type": "code",
   "execution_count": 7,
   "id": "0cdfca35",
   "metadata": {},
   "outputs": [
    {
     "name": "stdout",
     "output_type": "stream",
     "text": [
      "These are the results for block  1\n",
      "[{}, {}, {'b': {0}}]\n",
      "These are the results for block  2\n",
      "[{'a': {0}, 'b': {0}}]\n",
      "These are the results for block  4\n",
      "[{}]\n",
      "These are the results for block  3\n",
      "[{'print': set(), 'a': {1, 2}}]\n"
     ]
    }
   ],
   "source": [
    "for block_id, stmt_res in ssa_results.items():\n",
    "    print(\"These are the results for block \", block_id)\n",
    "    print(stmt_res)"
   ]
  },
  {
   "cell_type": "markdown",
   "id": "3191b764",
   "metadata": {},
   "source": [
    "The second dictionary is the global constant values for the numbered identifiers. There are many types of constant values."
   ]
  },
  {
   "cell_type": "code",
   "execution_count": 8,
   "id": "2ef5492b",
   "metadata": {},
   "outputs": [
    {
     "name": "stdout",
     "output_type": "stream",
     "text": [
      "('a', 0) <_ast.Constant object at 0x0000021EB1C36940>\n",
      "('b', 0) <_ast.Constant object at 0x0000021EB1C36880>\n",
      "('a', 1) <_ast.BinOp object at 0x0000021EB1C36790>\n",
      "('a', 2) <_ast.Constant object at 0x0000021EB1C36AC0>\n"
     ]
    }
   ],
   "source": [
    "for name, value in const_dict.items():\n",
    "    print(name, value)"
   ]
  },
  {
   "cell_type": "code",
   "execution_count": 10,
   "id": "6d0c7e2d",
   "metadata": {
    "scrolled": true
   },
   "outputs": [
    {
     "name": "stdout",
     "output_type": "stream",
     "text": [
      "{1: [{}, {}, {}, {}, {}, {'mnist.load_data': set(), 'mnist': {0}}, {'x_train.astype': set(), 'x_train': {0}}, {'x_test.astype': set(), 'x_test': {0}}, {'to_categorical': {0}, 'y_train': {0}}, {'to_categorical': {0}, 'y_test': {0}}, {'np.expand_dims': set(), 'np': {0}, 'x_train': {1}}, {'np.expand_dims': set(), 'np': {0}, 'x_test': {1}}, {'models.Sequential': set(), 'models': {0}, 'layers.Conv2D': set(), 'layers': {0}, 'layers.MaxPooling2D': set(), 'layers.Flatten': set(), 'layers.Dense': set()}, {'model.compile': set(), 'model': {0}}, {'model.fit': set(), 'model': {0}, 'x_train': {2}, 'y_train': {1}, 'x_test': {2}, 'y_test': {1}}, {'model.evaluate': set(), 'model': {0}, 'x_test': {2}, 'y_test': {1}}, {'print': set(), 'test_acc': {0}}, {}, {'model.save': set(), 'model': {0}}, {'load_model': {0}}, {'loaded_model.predict': set(), 'loaded_model': {0}, 'x_test': {2}}, {}, {}, {}, {}, {}, {'load_model': {1}}, {'mnist.load_data': set(), 'mnist': {1}}, {'x_test.astype': set(), 'x_test': {3}}, {'np.expand_dims': set(), 'np': {1}, 'x_test': {4}}, {}, {}, {}, {'sample': {0}, 'range': set(), 'len': set(), 'x_test': {5}}, {'sample': {0}, 'range': set(), 'len': set(), 'x_test': {5}}, {'generate_hand': {0}, 'x_test': {5}, 'indices_hand1': {0}}, {'generate_hand': {0}, 'x_test': {5}, 'indices_hand2': {0}}, {'print': set(), 'hand1': {0}, 'np.argmax': set(), 'np': {1}, 'loaded_model.predict': set(), 'loaded_model': {1}, 'np.expand_dims': set(), 'img': set()}, {'print': set(), 'hand2': {0}, 'np.argmax': set(), 'np': {1}, 'loaded_model.predict': set(), 'loaded_model': {1}, 'np.expand_dims': set(), 'img': {0}}, {}, {'compare_hands': {0}, 'hand1': {0}, 'hand2': {0}, 'initial_funds': {0}}, {'compare_hands': {0}, 'hand1': {0}, 'hand2': {0}, 'initial_funds': {0}}, {'print': set(), 'result': {0}}, {'print': set(), 'funds': {0}}]}\n"
     ]
    }
   ],
   "source": [
    "print(ssa_results)"
   ]
  },
  {
   "cell_type": "markdown",
   "id": "27033442",
   "metadata": {},
   "source": [
    "### Alias analysis\n",
    "The alias pairs can be implemented, since the const_dict stores all the constant values of variables. If the assigned value is an ast.Name type, the alias pairs can be found as follow."
   ]
  },
  {
   "cell_type": "code",
   "execution_count": 16,
   "id": "28bb8364",
   "metadata": {},
   "outputs": [
    {
     "name": "stdout",
     "output_type": "stream",
     "text": [
      "('x_train', 1) <_ast.BinOp object at 0x000001D81A4F2E20>\n",
      "('x_test', 1) <_ast.BinOp object at 0x000001D81A4F2DF0>\n",
      "('y_train', 1) <_ast.Call object at 0x000001D81A5050A0>\n",
      "('y_test', 1) <_ast.Call object at 0x000001D81A505220>\n",
      "('x_train', 2) <_ast.Call object at 0x000001D81A505340>\n",
      "('x_test', 2) <_ast.Call object at 0x000001D81A5054F0>\n",
      "('model', 0) <_ast.Call object at 0x000001D81A505700>\n",
      "('test_loss', 0) <_ast.Call object at 0x000001D81A509BB0>\n",
      "('test_acc', 0) <_ast.Call object at 0x000001D81A509BB0>\n",
      "('loaded_model', 0) <_ast.Call object at 0x000001D81A50E0A0>\n",
      "('all_predictions', 0) <_ast.Call object at 0x000001D81A50E1C0>\n",
      "('all_predictions', 1) <_ast.Constant object at 0x000001D81A50E2E0>\n",
      "('loaded_model', 1) <_ast.Call object at 0x000001D81A50E5B0>\n",
      "('x_test', 4) <_ast.BinOp object at 0x000001D81A50E8E0>\n",
      "('x_test', 5) <_ast.Call object at 0x000001D81A50EA30>\n",
      "('texas_holdem', 0) <_ast.FunctionDef object at 0x000001D81A50EBB0>\n",
      "('generate_hand', 0) <_ast.FunctionDef object at 0x000001D81A50EBE0>\n",
      "('initial_funds', 0) <_ast.Constant object at 0x000001D8175EF4C0>\n",
      "('indices_hand1', 0) <_ast.Call object at 0x000001D8175EF550>\n",
      "('indices_hand2', 0) <_ast.Call object at 0x000001D8175EF790>\n",
      "('hand1', 0) <_ast.Call object at 0x000001D8175EF640>\n",
      "('hand2', 0) <_ast.Call object at 0x000001D8175EFA60>\n",
      "('compare_hands', 0) <_ast.FunctionDef object at 0x000001D8175F3430>\n",
      "('result', 0) <_ast.Call object at 0x000001D8175FAE80>\n",
      "('funds', 0) <_ast.Call object at 0x000001D8175FAE80>\n"
     ]
    }
   ],
   "source": [
    "alias_name_pairs = []\n",
    "for name, value in const_dict.items():\n",
    "    print(name, value)\n",
    "    if isinstance(value, ast.Name):\n",
    "        print(name)\n",
    "        alias_name_pairs.append((name, value.id))"
   ]
  },
  {
   "cell_type": "code",
   "execution_count": null,
   "id": "f0860f34-2a8d-4a46-b173-0a0b31a5f9c6",
   "metadata": {},
   "outputs": [],
   "source": []
  },
  {
   "cell_type": "code",
   "execution_count": null,
   "id": "4e82a6a6-ed46-437c-a36f-e7de0dbdd577",
   "metadata": {},
   "outputs": [],
   "source": []
  }
 ],
 "metadata": {
  "kernelspec": {
   "display_name": "Python 3 (ipykernel)",
   "language": "python",
   "name": "python3"
  },
  "language_info": {
   "codemirror_mode": {
    "name": "ipython",
    "version": 3
   },
   "file_extension": ".py",
   "mimetype": "text/x-python",
   "name": "python",
   "nbconvert_exporter": "python",
   "pygments_lexer": "ipython3",
   "version": "3.8.19"
  }
 },
 "nbformat": 4,
 "nbformat_minor": 5
}
