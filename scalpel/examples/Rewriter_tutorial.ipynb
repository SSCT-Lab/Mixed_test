{
 "cells": [
  {
   "cell_type": "markdown",
   "metadata": {},
   "source": [
    "# Introduction to Code Rewriter using Scalpel\n",
    "\n"
   ]
  },
  {
   "cell_type": "markdown",
   "metadata": {},
   "source": [
    "The code rewriter module is designed as a fundamental function for supporting systematic changes of existing Python programs. Two preliminary usages of this function are to (1) simplify the programs for better static analysis and (2) optimize or repair problematic programs."
   ]
  },
  {
   "cell_type": "markdown",
   "metadata": {},
   "source": [
    "## Let's install Scalpel first\n",
    "\n",
    "Use the command in your virtual environment to install Scalpel.\n",
    "```console\n",
    "pip install python-scalpel\n",
    "```"
   ]
  },
  {
   "cell_type": "markdown",
   "metadata": {},
   "source": [
    "We will now import all the necessary module, including Rewriter from Scalpel."
   ]
  },
  {
   "cell_type": "code",
   "execution_count": 1,
   "metadata": {},
   "outputs": [],
   "source": [
    "import ast\n",
    "import os\n",
    "import sys\n",
    "import astor\n",
    "from scalpel.rewriter import Rewriter"
   ]
  },
  {
   "cell_type": "markdown",
   "metadata": {},
   "source": [
    "Now, we provide the code we want to rewrite and also define the expected output for the rewriter module."
   ]
  },
  {
   "cell_type": "code",
   "execution_count": 2,
   "metadata": {},
   "outputs": [],
   "source": [
    "src = \"\"\"\n",
    "a = list()\n",
    "b = dict()\n",
    "\"\"\"\n",
    "expected_src = \"\"\"\n",
    "a = []\n",
    "b = {}\n",
    "\"\"\""
   ]
  },
  {
   "cell_type": "markdown",
   "metadata": {},
   "source": [
    "Lets, define the function to establish rules for code rewriting. The function below represents the rewriting rules for keyword based initialization to character based initialization of lists and dictionary objects."
   ]
  },
  {
   "cell_type": "code",
   "execution_count": 3,
   "metadata": {},
   "outputs": [],
   "source": [
    "def rewrite_rules(node) -> list:\n",
    "    # This function takes an AST node and returns a list of new AST nodes\n",
    "    # that represent the rewritten code.\n",
    "    if isinstance(node, ast.Assign):\n",
    "        if isinstance(node.value, ast.Call) and hasattr(node.value.func, \"id\"):\n",
    "            if node.value.func.id == \"list\":\n",
    "                new_assign_value = ast.List(elts=[], ctx=ast.Load())\n",
    "                new_stmt = ast.Assign(node.targets, new_assign_value)\n",
    "                return [new_stmt]\n",
    "            \n",
    "            if node.value.func.id == \"dict\":\n",
    "                new_assign_value = ast.Dict(keys=[], values=[])\n",
    "                new_stmt = ast.Assign(node.targets, new_assign_value)\n",
    "                return [new_stmt]"
   ]
  },
  {
   "cell_type": "markdown",
   "metadata": {},
   "source": [
    "Finally, to rewrite the code using **Rewriter** , we have to initialize the rewriter object and them pass the source code and rewrite rules as parameters."
   ]
  },
  {
   "cell_type": "code",
   "execution_count": 4,
   "metadata": {},
   "outputs": [
    {
     "name": "stdout",
     "output_type": "stream",
     "text": [
      "a = []\n",
      "b = {}\n",
      "\n"
     ]
    }
   ],
   "source": [
    "rewriter = Rewriter(src)\n",
    "new_src = rewriter.rewrite( src, rule_func=rewrite_rules)\n",
    "print(new_src)"
   ]
  },
  {
   "cell_type": "markdown",
   "metadata": {},
   "source": [
    "#### Here is an another example for code rewriting using Scalpel for renaming variables in source code."
   ]
  },
  {
   "cell_type": "code",
   "execution_count": 5,
   "metadata": {},
   "outputs": [],
   "source": [
    "src_var_rename = \"\"\"\n",
    "def func(a,b):\n",
    "    c = a+b\n",
    "    return c\n",
    "\"\"\"\n",
    "\n",
    "target_var_rename = \"\"\"\n",
    "def func(x,y):\n",
    "    z = x+y\n",
    "    return z\n",
    "\"\"\""
   ]
  },
  {
   "cell_type": "markdown",
   "metadata": {},
   "source": [
    "This rewriting rule renames variable(s) with name **z** to **c**. This is done by checking all the nodes in the AST and replacing all the instance of variable **z** to **c** in each of the node."
   ]
  },
  {
   "cell_type": "code",
   "execution_count": 6,
   "metadata": {},
   "outputs": [],
   "source": [
    "def rewrite_rules_var_rename(node) -> list:\n",
    "    old_name = \"c\"\n",
    "    new_name = \"z\"\n",
    "    for tmp_node in ast.walk(node):\n",
    "        if isinstance(tmp_node, ast.Name):\n",
    "            if tmp_node.id == old_name:\n",
    "                tmp_node.id = new_name\n",
    "    return [node]"
   ]
  },
  {
   "cell_type": "markdown",
   "metadata": {},
   "source": [
    "Finally, we can then re-write the source code with above defined rules using rewriter module."
   ]
  },
  {
   "cell_type": "code",
   "execution_count": 7,
   "metadata": {},
   "outputs": [
    {
     "name": "stdout",
     "output_type": "stream",
     "text": [
      "def func(a, b):\n",
      "    z = a + b\n",
      "    return z\n",
      "\n"
     ]
    }
   ],
   "source": [
    "rewriter_var_rename = Rewriter(src_var_rename)\n",
    "new_src_var_rename = rewriter_var_rename.rewrite(src_var_rename, rule_func=rewrite_rules_var_rename)\n",
    "print(new_src_var_rename)"
   ]
  }
 ],
 "metadata": {
  "kernelspec": {
   "display_name": "scalpel",
   "language": "python",
   "name": "python3"
  },
  "language_info": {
   "codemirror_mode": {
    "name": "ipython",
    "version": 3
   },
   "file_extension": ".py",
   "mimetype": "text/x-python",
   "name": "python",
   "nbconvert_exporter": "python",
   "pygments_lexer": "ipython3",
   "version": "3.10.6"
  },
  "orig_nbformat": 4
 },
 "nbformat": 4,
 "nbformat_minor": 2
}
