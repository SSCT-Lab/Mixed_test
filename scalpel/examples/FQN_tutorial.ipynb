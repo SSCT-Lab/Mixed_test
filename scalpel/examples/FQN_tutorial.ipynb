{
 "cells": [
  {
   "cell_type": "markdown",
   "metadata": {},
   "source": [
    "# Introduction to Fully Qualified Name Resolution using Scalpel\n",
    "The qualified API name is a string that represents the path from the top-level module to the object itself. The name format is defined in PEP 3155.\n",
    "\n",
    "Python APIs or function names can be invoked in different ways depending on how they are imported. However, this results in inconveniences to API usage analysis. In this module, we will convert all function call names to their fully-qualified names which are dotted strings that can represent the path from the top-level module down to the object itself. Various tasks can be benefited from this functionality such as understanding deprecated API  usage, dependency parsing as well as building sound call graphs."
   ]
  },
  {
   "cell_type": "markdown",
   "metadata": {},
   "source": [
    "## Let's install Scalpel first\n",
    "\n",
    "Use the command in your virtual environment to install Scalpel.\n",
    "```console\n",
    "pip install python-scalpel\n",
    "```"
   ]
  },
  {
   "cell_type": "markdown",
   "metadata": {},
   "source": [
    "Now, Lets import all the  necessary modules."
   ]
  },
  {
   "cell_type": "code",
   "execution_count": 1,
   "metadata": {},
   "outputs": [],
   "source": [
    "from scalpel.fqn import FullyQualifiedNameInference as FQNInference\n"
   ]
  },
  {
   "cell_type": "markdown",
   "metadata": {},
   "source": [
    "Below is an example source code for which we will  generate fully qualified names of APIs initialized  in it."
   ]
  },
  {
   "cell_type": "code",
   "execution_count": 2,
   "metadata": {},
   "outputs": [],
   "source": [
    "source_path = \"./fqn_example/example.py\" "
   ]
  },
  {
   "cell_type": "markdown",
   "metadata": {},
   "source": [
    "### Static Inference"
   ]
  },
  {
   "cell_type": "code",
   "execution_count": 3,
   "metadata": {},
   "outputs": [
    {
     "name": "stdout",
     "output_type": "stream",
     "text": [
      "['<builtin>.len', 'seaborn.load_dataset', '<builtin>.print', 'pandas.read_csv', 'random.choices', 'seaborn.countplot']\n"
     ]
    }
   ],
   "source": [
    "static_inference = FQNInference(file_path=source_path).infer()\n",
    "print(static_inference)"
   ]
  },
  {
   "cell_type": "markdown",
   "metadata": {},
   "source": [
    "### HeaderGen Hybrid Inference\n",
    "\n",
    "Note: to resolve calls to external libraries, HeaderGen expects the libraries to be installed. \n",
    "To run the following example, please install pandas and seaborn with\n",
    "\n",
    "`pip install pandas seaborn`\n",
    "\n",
    "Also, autoreload is needed to make it work with Jupyter notebooks due to dynamic imports. This is not needed for Python scripts"
   ]
  },
  {
   "cell_type": "code",
   "execution_count": 4,
   "metadata": {},
   "outputs": [
    {
     "name": "stdout",
     "output_type": "stream",
     "text": [
      "The autoreload module is not an IPython extension.\n"
     ]
    },
    {
     "name": "stderr",
     "output_type": "stream",
     "text": [
      "UsageError: Line magic function `%autoreload` not found.\n"
     ]
    }
   ],
   "source": [
    "%load_ext autoreload\n",
    "\n",
    "%autoreload 2"
   ]
  },
  {
   "cell_type": "code",
   "execution_count": 5,
   "metadata": {},
   "outputs": [
    {
     "name": "stdout",
     "output_type": "stream",
     "text": [
      "['<builtin>.len', 'seaborn.utils.load_dataset', '<builtin>.print', 'pandas.io.parsers.readers.read_csv', 'random.Random.choices', 'seaborn.categorical.countplot']\n"
     ]
    }
   ],
   "source": [
    "dynamic_inference = FQNInference(file_path=source_path, dynamic=True).infer()\n",
    "print(dynamic_inference)"
   ]
  }
 ],
 "metadata": {
  "kernelspec": {
   "display_name": "scalpel",
   "language": "python",
   "name": "python3"
  },
  "language_info": {
   "codemirror_mode": {
    "name": "ipython",
    "version": 3
   },
   "file_extension": ".py",
   "mimetype": "text/x-python",
   "name": "python",
   "nbconvert_exporter": "python",
   "pygments_lexer": "ipython3",
   "version": "3.10.12"
  },
  "orig_nbformat": 4
 },
 "nbformat": 4,
 "nbformat_minor": 2
}
